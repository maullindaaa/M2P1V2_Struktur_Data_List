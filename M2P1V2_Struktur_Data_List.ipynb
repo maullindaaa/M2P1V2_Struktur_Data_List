{
  "nbformat": 4,
  "nbformat_minor": 0,
  "metadata": {
    "colab": {
      "name": "M2P1V2_Struktur_Data_List.ipynb",
      "provenance": [],
      "collapsed_sections": [],
      "authorship_tag": "ABX9TyOdpx+JvZWz3zCIYyDno5Oj",
      "include_colab_link": true
    },
    "kernelspec": {
      "display_name": "Python 3",
      "name": "python3"
    },
    "language_info": {
      "name": "python"
    }
  },
  "cells": [
    {
      "cell_type": "markdown",
      "metadata": {
        "id": "view-in-github",
        "colab_type": "text"
      },
      "source": [
        "<a href=\"https://colab.research.google.com/github/maullindaaa/M2P1V2_Struktur_Data_List/blob/main/M2P1V2_Struktur_Data_List.ipynb\" target=\"_parent\"><img src=\"https://colab.research.google.com/assets/colab-badge.svg\" alt=\"Open In Colab\"/></a>"
      ]
    },
    {
      "cell_type": "markdown",
      "metadata": {
        "id": "_GmNO8Ip4Gew"
      },
      "source": [
        "#List\n",
        "List adalah jenis kumpulan data terurut (ordered squence), dan merupakan salah satu variabel yang sering digunakan pada python. Serupa, namun tak sama dengan array pada bahasa pemrograman lainnya. Bedanya, elemen List pada python tidak harus memiliki tipe data yang sama. Mendeklarasikan List cukup mudah dengan kurung siku dan elemen yang dipisahkan dengan koma.\n",
        "\n",
        "Setiap data didalamnya dapat diakses dengan indeks yang dimulai dari 0."
      ]
    },
    {
      "cell_type": "code",
      "metadata": {
        "colab": {
          "base_uri": "https://localhost:8080/"
        },
        "id": "DFigoGo35RQS",
        "outputId": "59db8ab6-6932-4029-ca4a-004cf1176a44"
      },
      "source": [
        "#Contoh List\n",
        "L1 = [1,4,2,13]\n",
        "\n",
        "print(type(L1))"
      ],
      "execution_count": 1,
      "outputs": [
        {
          "output_type": "stream",
          "name": "stdout",
          "text": [
            "<class 'list'>\n"
          ]
        }
      ]
    },
    {
      "cell_type": "code",
      "metadata": {
        "colab": {
          "base_uri": "https://localhost:8080/"
        },
        "id": "_yeqVZRI5sgh",
        "outputId": "9631412e-d820-4726-9114-24bd9d6ce172"
      },
      "source": [
        "L2 = [\"a\",\"python\",3]\n",
        "L2"
      ],
      "execution_count": 2,
      "outputs": [
        {
          "output_type": "execute_result",
          "data": {
            "text/plain": [
              "['a', 'python', 3]"
            ]
          },
          "metadata": {},
          "execution_count": 2
        }
      ]
    },
    {
      "cell_type": "code",
      "metadata": {
        "colab": {
          "base_uri": "https://localhost:8080/"
        },
        "id": "l4dfi3dJ580y",
        "outputId": "716fc0e9-d292-486c-98a9-26da200a6d38"
      },
      "source": [
        "print(L1)\n",
        "print(L2)"
      ],
      "execution_count": 3,
      "outputs": [
        {
          "output_type": "stream",
          "name": "stdout",
          "text": [
            "[1, 4, 2, 13]\n",
            "['a', 'python', 3]\n"
          ]
        }
      ]
    },
    {
      "cell_type": "markdown",
      "metadata": {
        "id": "Q_DawONC6E7-"
      },
      "source": [
        "**Latihan 1**"
      ]
    },
    {
      "cell_type": "code",
      "metadata": {
        "colab": {
          "base_uri": "https://localhost:8080/"
        },
        "id": "VKi_lGYY6KXE",
        "outputId": "6c05a53b-119e-46ef-b813-16cea46b2077"
      },
      "source": [
        "#Buatlah List kalian sendiri\n",
        "\n",
        "#JAWAB\n",
        "A = [12,2,6]\n",
        "B = [\"handphone\",\"laptop\",\"tablet\"]\n",
        "print(A)\n",
        "print(B)"
      ],
      "execution_count": 6,
      "outputs": [
        {
          "output_type": "stream",
          "name": "stdout",
          "text": [
            "[12, 2, 6]\n",
            "['handphone', 'laptop', 'tablet']\n"
          ]
        }
      ]
    },
    {
      "cell_type": "code",
      "metadata": {
        "colab": {
          "base_uri": "https://localhost:8080/"
        },
        "id": "TghDDkPE7iRC",
        "outputId": "5795cd0f-6290-472d-f366-f35dc3669ad3"
      },
      "source": [
        "#Sifat-sifat List\n",
        "\n",
        "#Terurut/Ordered\n",
        "print(\"memanggil List L1 dengan indeks urutan:\", L1[0:3])\n",
        "\n",
        "#Bisa diganti/Mutable\n",
        "L1[1] = 2\n",
        "print(\"List L1 setelah diganti elemennya :\" , L1)\n",
        "\n",
        "L1 = [1,\"dua\",True,2+3j]\n",
        "\n",
        "#Dapat diindeks/Slicing\n",
        "print(\"Slicing List L1 :\",L1[3])\n",
        "\n",
        "#Dapat diijinkan duplikasi\n",
        "L1 = [1,\"dua\",True, 2+3j,2+3j]\n",
        "print(\"Duplikasi pada List L1 :\", L1)"
      ],
      "execution_count": 7,
      "outputs": [
        {
          "output_type": "stream",
          "name": "stdout",
          "text": [
            "memanggil List L1 dengan indeks urutan: [1, 4, 2]\n",
            "List L1 setelah diganti elemennya : [1, 2, 2, 13]\n",
            "Slicing List L1 : (2+3j)\n",
            "Duplikasi pada List L1 : [1, 'dua', True, (2+3j), (2+3j)]\n"
          ]
        }
      ]
    },
    {
      "cell_type": "markdown",
      "metadata": {
        "id": "9CYo8plm9wU2"
      },
      "source": [
        "**Latihan 2**"
      ]
    },
    {
      "cell_type": "code",
      "metadata": {
        "colab": {
          "base_uri": "https://localhost:8080/"
        },
        "id": "bb4nsXU194gs",
        "outputId": "7c7762c4-c16f-4617-ddd4-1cc6b8a16008"
      },
      "source": [
        "#Ganti elemen yang ada pada List yang kalian buat \n",
        "A = [12,2,6]\n",
        "B = [\"handphone\",\"laptop\",\"tablet\"]\n",
        "A [1] = 5\n",
        "B [2] = \"notebook\"\n",
        "print(\"List A setelah diganti elemennya:\", A)\n",
        "print(\"List B setelah diganti elemennya:\", B)"
      ],
      "execution_count": 15,
      "outputs": [
        {
          "output_type": "stream",
          "name": "stdout",
          "text": [
            "List A setelah diganti elemennya: [12, 5, 6]\n",
            "List B setelah diganti elemennya: ['handphone', 'laptop', 'notebook']\n"
          ]
        }
      ]
    }
  ]
}